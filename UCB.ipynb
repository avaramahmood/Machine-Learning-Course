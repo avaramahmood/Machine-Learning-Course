{
  "nbformat": 4,
  "nbformat_minor": 0,
  "metadata": {
    "colab": {
      "provenance": [],
      "authorship_tag": "ABX9TyOnmB2RM/KmZGTOXcTPXl9T",
      "include_colab_link": true
    },
    "kernelspec": {
      "name": "python3",
      "display_name": "Python 3"
    },
    "language_info": {
      "name": "python"
    }
  },
  "cells": [
    {
      "cell_type": "markdown",
      "metadata": {
        "id": "view-in-github",
        "colab_type": "text"
      },
      "source": [
        "<a href=\"https://colab.research.google.com/github/avaramahmood/Machine-Learning-Course/blob/main/UCB.ipynb\" target=\"_parent\"><img src=\"https://colab.research.google.com/assets/colab-badge.svg\" alt=\"Open In Colab\"/></a>"
      ]
    },
    {
      "cell_type": "code",
      "execution_count": 1,
      "metadata": {
        "id": "dLHhohN5QtcU"
      },
      "outputs": [],
      "source": [
        "import pandas as pd\n",
        "import numpy as np\n",
        "import matplotlib.pyplot as plt\n",
        "import seaborn as sns"
      ]
    },
    {
      "cell_type": "code",
      "source": [
        "!wget https://raw.githubusercontent.com/avaramahmood/Machine-Learning-Course/refs/heads/main/Datasets/Ads_CTR_Optimisation.csv"
      ],
      "metadata": {
        "colab": {
          "base_uri": "https://localhost:8080/"
        },
        "id": "klKHy3MZSDdn",
        "outputId": "66e7cfd1-52e9-4515-c3a4-3bc228e1bc41"
      },
      "execution_count": 2,
      "outputs": [
        {
          "output_type": "stream",
          "name": "stdout",
          "text": [
            "--2025-06-30 14:40:54--  https://raw.githubusercontent.com/avaramahmood/Machine-Learning-Course/refs/heads/main/Datasets/Ads_CTR_Optimisation.csv\n",
            "Resolving raw.githubusercontent.com (raw.githubusercontent.com)... 185.199.108.133, 185.199.109.133, 185.199.110.133, ...\n",
            "Connecting to raw.githubusercontent.com (raw.githubusercontent.com)|185.199.108.133|:443... connected.\n",
            "HTTP request sent, awaiting response... 200 OK\n",
            "Length: 210050 (205K) [text/plain]\n",
            "Saving to: ‘Ads_CTR_Optimisation.csv’\n",
            "\n",
            "\rAds_CTR_Optimisatio   0%[                    ]       0  --.-KB/s               \rAds_CTR_Optimisatio 100%[===================>] 205.13K  --.-KB/s    in 0.006s  \n",
            "\n",
            "2025-06-30 14:40:54 (34.1 MB/s) - ‘Ads_CTR_Optimisation.csv’ saved [210050/210050]\n",
            "\n"
          ]
        }
      ]
    },
    {
      "cell_type": "code",
      "source": [
        "df = pd.read_csv('Ads_CTR_Optimisation.csv')"
      ],
      "metadata": {
        "id": "9R1NvLRgSKmm"
      },
      "execution_count": 3,
      "outputs": []
    },
    {
      "cell_type": "code",
      "source": [
        "N = 10000\n",
        "d = 10\n",
        "ads_selected = []\n",
        "numbers_of_selections = [0]*d\n",
        "sums_of_rewards = [0]*d\n",
        "total_reward = 0"
      ],
      "metadata": {
        "id": "CO4nvySUSN5q"
      },
      "execution_count": 8,
      "outputs": []
    },
    {
      "cell_type": "code",
      "source": [
        "for n in range(0,N) :\n",
        "  ad = 0\n",
        "  max_upper_bound = 0\n",
        "  for i in range(0,d) :\n",
        "    if (numbers_of_selections[i] > 0) :\n",
        "      average_reward = sums_of_rewards[i] / numbers_of_selections[i]\n",
        "      delta_i = np.sqrt(3/2 * np.log(n+1) / numbers_of_selections[i])\n",
        "      upper_bound = average_reward + delta_i\n",
        "    else :\n",
        "      upper_bound = 1e400\n",
        "    if(upper_bound > max_upper_bound) :\n",
        "      max_upper_bound = upper_bound\n",
        "      ad = i\n",
        "  ads_selected.append(ad)\n",
        "  numbers_of_selections[ad] = numbers_of_selections[ad] + 1\n",
        "  reward = df.values[n,ad]\n",
        "  sums_of_rewards[ad] = sums_of_rewards[ad] + reward\n",
        "  total_reward = total_reward + reward"
      ],
      "metadata": {
        "id": "FiJPZ3zfTBki"
      },
      "execution_count": 19,
      "outputs": []
    },
    {
      "cell_type": "markdown",
      "source": [
        "Visualizing"
      ],
      "metadata": {
        "id": "5n_v_WNAXLwz"
      }
    },
    {
      "cell_type": "code",
      "source": [
        "plt.hist(ads_selected)\n",
        "plt.title('Histogram of ads selections')\n",
        "plt.xlabel('Ads')\n",
        "plt.ylabel('Number of times each ad was selected')\n",
        "plt.show()"
      ],
      "metadata": {
        "colab": {
          "base_uri": "https://localhost:8080/",
          "height": 472
        },
        "id": "gOtEaq3qVBlV",
        "outputId": "ed2cf4c8-c53a-4b49-91de-a55f6e023799"
      },
      "execution_count": 20,
      "outputs": [
        {
          "output_type": "display_data",
          "data": {
            "text/plain": [
              "<Figure size 640x480 with 1 Axes>"
            ],
            "image/png": "[encoded data removed]"
          },
          "metadata": {}
        }
      ]
    },
    {
      "cell_type": "code",
      "source": [],
      "metadata": {
        "id": "P3MU5b1KXRbm"
      },
      "execution_count": null,
      "outputs": []
    }
  ]
}